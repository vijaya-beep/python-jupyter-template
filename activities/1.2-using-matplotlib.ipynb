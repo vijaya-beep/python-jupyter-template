{
 "cells": [
  {
   "cell_type": "markdown",
   "id": "89584ec7",
   "metadata": {},
   "source": [
    "# Matplotlib Activities \n",
    "This notebook contains activities to practice various types of plots and visualizations using Matplotlib."
   ]
  },
  {
   "cell_type": "markdown",
   "metadata": {},
   "source": [
    "## Activity 1: Basic Line Plot\n",
    "### Objective: Create a simple line plot to visualize data.\n",
    "#### Instructions:\n",
    "1. Create a list of x-values (`[0, 1, 2, 3, 4, 5]`) and a list of corresponding y-values (`[0, 1, 4, 9, 16, 25]`).\n",
    "2. Use Matplotlib to plot these values as a line graph.\n",
    "3. Label the axes as `x` and `y`.\n",
    "4. Give the plot a title: `Basic Line Plot`.\n"
   ]
  },
  {
   "cell_type": "code",
   "execution_count": null,
   "metadata": {},
   "outputs": [
    {
     "ename": "",
     "evalue": "",
     "output_type": "error",
     "traceback": [
      "\u001b[1;31mRunning cells with 'Python 3.9.2' requires the ipykernel package.\n",
      "\u001b[1;31m<a href='command:jupyter.createPythonEnvAndSelectController'>Create a Python Environment</a> with the required packages."
     ]
    }
   ],
   "source": [
    "import matplotlib.pyplot as plt\n",
    "# Data\n",
    "x = [0, 1, 2, 3, 4, 5]\n",
    "y = [0, 1, 4, 9, 16, 25]\n",
    "\n",
    "# Create a line plot\n",
    "plt.plot(x, y)\n",
    "\n",
    "# Labeling the axes and the plot\n",
    "plt.xlabel('x')\n",
    "plt.ylabel('y')\n",
    "plt.title('Basic Line Plot')\n",
    "\n",
    "# Show the plot\n",
    "plt.show()"
   ]
  },
  {
   "cell_type": "markdown",
   "metadata": {},
   "source": [
    "## Activity 2: Bar Plot\n",
    "### Objective: Create a bar plot to visualize categorical data.\n",
    "#### Instructions:\n",
    "1. Create a list of categories (`['Category A', 'Category B', 'Category C', 'Category D']`) and corresponding values (`[4, 7, 3, 6]`).\n",
    "2. Use Matplotlib to create a bar plot.\n",
    "3. Add labels for the x and y axes.\n",
    "4. Add a title to the plot: `Bar Plot Example`."
   ]
  },
  {
   "cell_type": "code",
   "execution_count": null,
   "metadata": {},
   "outputs": [],
   "source": [
    "# Data\n",
    "categories = ['Category A', 'Category B', 'Category C', 'Category D']\n",
    "values = [4, 7, 3, 6]\n",
    "\n",
    "# Create a bar plot\n",
    "plt.bar(categories, values)\n",
    "\n",
    "# Labeling the axes and the plot\n",
    "plt.xlabel('Categories')\n",
    "plt.ylabel('Values')\n",
    "plt.title('Bar Plot Example')\n",
    "\n",
    "# Show the plot\n",
    "plt.show()"
   ]
  },
  {
   "cell_type": "markdown",
   "metadata": {},
   "source": [
    "## Activity 3: Scatter Plot\n",
    "### Objective: Create a scatter plot to visualize the relationship between two variables.\n",
    "#### Instructions:\n",
    "1. Create two lists of random values for x and y (e.g., `x = [1, 2, 3, 4, 5]`, `y = [5, 4, 3, 2, 1]`).\n",
    "2. Use Matplotlib to plot a scatter plot.\n",
    "3. Add labels for the axes and a title: `Scatter Plot Example`."
   ]
  },
  {
   "cell_type": "code",
   "execution_count": null,
   "metadata": {},
   "outputs": [],
   "source": [
    "# Data\n",
    "x = [1, 2, 3, 4, 5]\n",
    "y = [5, 4, 3, 2, 1]\n",
    "\n",
    "# Create a scatter plot\n",
    "plt.scatter(x, y)\n",
    "\n",
    "# Labeling the axes and the plot\n",
    "plt.xlabel('x')\n",
    "plt.ylabel('y')\n",
    "plt.title('Scatter Plot Example')\n",
    "\n",
    "# Show the plot\n",
    "plt.show()"
   ]
  },
  {
   "cell_type": "markdown",
   "metadata": {},
   "source": [
    "## Activity 4: Histogram\n",
    "### Objective: Create a histogram to visualize the distribution of a dataset.\n",
    "#### Instructions:\n",
    "1. Create a list of random values (e.g., `data = [1, 2, 2, 3, 4, 5, 5, 5, 6, 7]`).\n",
    "2. Use Matplotlib to create a histogram with 5 bins.\n",
    "3. Label the axes and give the plot a title: `Histogram Example`."
   ]
  },
  {
   "cell_type": "code",
   "execution_count": null,
   "metadata": {},
   "outputs": [],
   "source": [
    "# Data\n",
    "data = [1, 2, 2, 3, 4, 5, 5, 5, 6, 7]\n",
    "\n",
    "# Create a histogram\n",
    "plt.hist(data, bins=5)\n",
    "\n",
    "# Labeling the axes and the plot\n",
    "plt.xlabel('Value')\n",
    "plt.ylabel('Frequency')\n",
    "plt.title('Histogram Example')\n",
    "\n",
    "# Show the plot\n",
    "plt.show()"
   ]
  },
  {
   "cell_type": "markdown",
   "metadata": {},
   "source": [
    "## Activity 5: Pie Chart\n",
    "### Objective: Create a pie chart to visualize the proportions of different categories.\n",
    "#### Instructions:\n",
    "1. Create a list of categories (`['Apple', 'Banana', 'Cherry', 'Date']`) and their corresponding values (`[10, 15, 7, 5]`).\n",
    "2. Use Matplotlib to create a pie chart.\n",
    "3. Add a title to the chart: `Fruit Pie Chart`."
   ]
  },
  {
   "cell_type": "code",
   "execution_count": null,
   "metadata": {},
   "outputs": [],
   "source": [
    "# Data\n",
    "labels = ['Apple', 'Banana', 'Cherry', 'Date']\n",
    "sizes = [10, 15, 7, 5]\n",
    "\n",
    "# Create a pie chart\n",
    "plt.pie(sizes, labels=labels, autopct='%1.1f%%')\n",
    "\n",
    "# Title\n",
    "plt.title('Fruit Pie Chart')\n",
    "\n",
    "# Show the plot\n",
    "plt.show()"
   ]
  },
  {
   "cell_type": "markdown",
   "metadata": {},
   "source": [
    "## Activity 6: Multiple Subplots\n",
    "### Objective: Create multiple subplots to visualize different types of plots in one figure.\n",
    "#### Instructions:\n",
    "1. Create a figure with 2 rows and 2 columns of subplots.\n",
    "2. In the first subplot, create a line plot.\n",
    "3. In the second subplot, create a bar plot.\n",
    "4. In the third subplot, create a scatter plot.\n",
    "5. In the fourth subplot, create a pie chart."
   ]
  },
  {
   "cell_type": "code",
   "execution_count": null,
   "metadata": {},
   "outputs": [],
   "source": [
    "# Data\n",
    "x = [0, 1, 2, 3, 4]\n",
    "y = [0, 1, 4, 9, 16]\n",
    "categories = ['A', 'B', 'C', 'D']\n",
    "values = [5, 3, 9, 6]\n",
    "labels = ['Apple', 'Banana', 'Cherry', 'Date']\n",
    "sizes = [10, 15, 7, 5]\n",
    "\n",
    "# Create a 2x2 grid of subplots\n",
    "fig, axs = plt.subplots(2, 2, figsize=(10, 10))\n",
    "\n",
    "# First subplot: Line plot\n",
    "axs[0, 0].plot(x, y)\n",
    "axs[0, 0].set_title('Line Plot')\n",
    "\n",
    "# Second subplot: Bar plot\n",
    "axs[0, 1].bar(categories, values)\n",
    "axs[0, 1].set_title('Bar Plot')\n",
    "\n",
    "# Third subplot: Scatter plot\n",
    "axs[1, 0].scatter(x, y)\n",
    "axs[1, 0].set_title('Scatter Plot')\n",
    "\n",
    "# Fourth subplot: Pie chart\n",
    "axs[1, 1].pie(sizes, labels=labels, autopct='%1.1f%%')\n",
    "axs[1, 1].set_title('Pie Chart')\n",
    "\n",
    "# Show the plots\n",
    "plt.show()"
   ]
  }
 ],
 "metadata": {
  "kernelspec": {
   "display_name": "Python 3",
   "language": "python",
   "name": "python3"
  },
  "language_info": {
   "codemirror_mode": {
    "name": "ipython",
    "version": 3
   },
   "file_extension": ".py",
   "mimetype": "text/x-python",
   "name": "python",
   "nbconvert_exporter": "python",
   "pygments_lexer": "ipython3",
   "version": "3.9.2"
  }
 },
 "nbformat": 4,
 "nbformat_minor": 5
}
